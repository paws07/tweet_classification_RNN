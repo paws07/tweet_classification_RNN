{
 "cells": [
  {
   "cell_type": "code",
   "execution_count": 173,
   "id": "9b781f1a",
   "metadata": {
    "ExecuteTime": {
     "end_time": "2023-03-06T00:09:28.647960Z",
     "start_time": "2023-03-06T00:09:28.640872Z"
    }
   },
   "outputs": [],
   "source": [
    "import pandas as pd\n",
    "import seaborn as sns\n",
    "import matplotlib.pyplot as plt\n",
    "import numpy as np\n",
    "import spacy\n",
    "import itertools\n",
    "\n",
    "from sklearn.model_selection import train_test_split\n",
    "from sklearn.feature_extraction.text import CountVectorizer, TfidfTransformer\n",
    "from sklearn.neighbors import KNeighborsClassifier\n",
    "from sklearn.metrics import confusion_matrix, accuracy_score, ConfusionMatrixDisplay, classification_report\n",
    "import tensorflow as tf\n",
    "from tensorflow import keras"
   ]
  },
  {
   "cell_type": "code",
   "execution_count": 412,
   "id": "cc6c934a",
   "metadata": {
    "ExecuteTime": {
     "end_time": "2023-03-06T02:20:26.847256Z",
     "start_time": "2023-03-06T02:20:26.811508Z"
    }
   },
   "outputs": [
    {
     "name": "stdout",
     "output_type": "stream",
     "text": [
      "The watermark extension is already loaded. To reload it, use:\n",
      "  %reload_ext watermark\n",
      "Python implementation: CPython\n",
      "Python version       : 3.8.8\n",
      "IPython version      : 7.22.0\n",
      "\n",
      "numpy     : 1.23.5\n",
      "sklearn   : 1.2.0\n",
      "spacy     : 3.4.4\n",
      "pandas    : 1.4.3\n",
      "seaborn   : 0.12.2\n",
      "tensorflow: 2.11.0\n",
      "\n",
      "Compiler    : MSC v.1916 64 bit (AMD64)\n",
      "OS          : Windows\n",
      "Release     : 10\n",
      "Machine     : AMD64\n",
      "Processor   : Intel64 Family 6 Model 140 Stepping 1, GenuineIntel\n",
      "CPU cores   : 8\n",
      "Architecture: 64bit\n",
      "\n"
     ]
    }
   ],
   "source": [
    "%load_ext watermark\n",
    "%watermark -v -n -m -p numpy,sklearn,spacy,pandas,seaborn,tensorflow"
   ]
  },
  {
   "cell_type": "markdown",
   "id": "f4b3b1d9",
   "metadata": {},
   "source": [
    "## Brief Description"
   ]
  },
  {
   "cell_type": "markdown",
   "id": "014162bc",
   "metadata": {},
   "source": [
    "This is a binary classification project for NLP. We seek to build a model that predicts whether a given tweet is about real disasters or not. There are a total of 10,000 manually classified tweets of which 7,613 are present in the training dataset and the rest as testing.\n",
    "\n",
    "We will be using RNNs for the classification, along with a traditional KNN model to compare it against."
   ]
  },
  {
   "cell_type": "code",
   "execution_count": 312,
   "id": "8e5317bb",
   "metadata": {
    "ExecuteTime": {
     "end_time": "2023-03-06T01:24:01.629474Z",
     "start_time": "2023-03-06T01:24:01.595706Z"
    }
   },
   "outputs": [],
   "source": [
    "test = pd.read_csv(r'data\\test.csv')\n",
    "train = pd.read_csv(r'data\\train.csv')"
   ]
  },
  {
   "cell_type": "markdown",
   "id": "f8cbc188",
   "metadata": {},
   "source": [
    "Data Definitions:  \n",
    "\n",
    "    id -> Unique Identifier  \n",
    "    text -> The text of the tweet  \n",
    "    location -> The location the tweet was sent from (can be NA)  \n",
    "    keywords -> Relevant keyword from the tweet, maybe blank  \n",
    "    target -> Whether tweet is about a disaster  "
   ]
  },
  {
   "cell_type": "code",
   "execution_count": 313,
   "id": "edeb6673",
   "metadata": {
    "ExecuteTime": {
     "end_time": "2023-03-06T01:24:02.108356Z",
     "start_time": "2023-03-06T01:24:02.102352Z"
    }
   },
   "outputs": [
    {
     "data": {
      "text/plain": [
       "id          0.000\n",
       "keyword     0.008\n",
       "location    0.333\n",
       "text        0.000\n",
       "target      0.000\n",
       "dtype: float64"
      ]
     },
     "execution_count": 313,
     "metadata": {},
     "output_type": "execute_result"
    }
   ],
   "source": [
    "round(train.isna().sum()/train.shape[0], 3)"
   ]
  },
  {
   "cell_type": "markdown",
   "id": "7f05b223",
   "metadata": {},
   "source": [
    "We see a lot of blanks for the location, the keyword itself is already a part of the text so we should be fine with removing these columns"
   ]
  },
  {
   "cell_type": "code",
   "execution_count": 314,
   "id": "51025909",
   "metadata": {
    "ExecuteTime": {
     "end_time": "2023-03-06T01:24:02.670451Z",
     "start_time": "2023-03-06T01:24:02.655238Z"
    }
   },
   "outputs": [
    {
     "data": {
      "text/plain": [
       "array(['#news Britons rescued amid Himalaya floods http://t.co/kEPznhXHXd',\n",
       "       'Such beautiful architecture in #NYC I love those fire escape routes on the buildings. #newyork\\x89Û_ https://t.co/fW1PtaElgV',\n",
       "       'Obama Declares Disaster for Typhoon-Devastated Saipan: Obama signs disaster declaration for Northern Marians a... http://t.co/Q3DtOqO04c',\n",
       "       'Powerlines down over tram on GC Highway. Passengers have just been evacuated @9NewsBrisbane @9NewsGoldCoast http://t.co/KD3Qsakbi5',\n",
       "       '#Civilian casualties in Afghanistan hit highest number since 2009 U.N. says via @WashingtonPost - http://t.co/xTF5DvgRvh'],\n",
       "      dtype=object)"
      ]
     },
     "execution_count": 314,
     "metadata": {},
     "output_type": "execute_result"
    }
   ],
   "source": [
    "# Look at a positive samples for a disaster\n",
    "train[train['target'] == 1]['text'].sample(5).values"
   ]
  },
  {
   "cell_type": "markdown",
   "id": "fb1b09f8",
   "metadata": {},
   "source": [
    "We already see a lot of URLs present, this will have to cleaned off"
   ]
  },
  {
   "cell_type": "markdown",
   "id": "c9f66108",
   "metadata": {},
   "source": [
    "## Exploratory Data Analysis (EDA) "
   ]
  },
  {
   "cell_type": "code",
   "execution_count": 315,
   "id": "615765bf",
   "metadata": {
    "ExecuteTime": {
     "end_time": "2023-03-06T01:24:03.753537Z",
     "start_time": "2023-03-06T01:24:03.703872Z"
    }
   },
   "outputs": [
    {
     "data": {
      "image/png": "[encoded data removed]",
      "text/plain": [
       "<Figure size 432x288 with 1 Axes>"
      ]
     },
     "metadata": {},
     "output_type": "display_data"
    }
   ],
   "source": [
    "# Create a dataframe to show class counts\n",
    "train_counts = train['target'].value_counts().reset_index()\n",
    "\n",
    "plt.pie(train_counts['target'].values, \n",
    "        labels=['Non-Disaster', 'Disaster'],\n",
    "        autopct='%1.1f%%',\n",
    "        startangle=90)\n",
    "plt.title('Disaster Ratio')\n",
    "plt.show()"
   ]
  },
  {
   "cell_type": "markdown",
   "id": "0a214414",
   "metadata": {},
   "source": [
    "The classes look like they are balanced for the most part. We now look at the distribution of char counts. Twitter used to have a 140 character limit, which has been increase since (depending on when the data was collected)"
   ]
  },
  {
   "cell_type": "code",
   "execution_count": 316,
   "id": "9408edc8",
   "metadata": {
    "ExecuteTime": {
     "end_time": "2023-03-06T01:24:04.436684Z",
     "start_time": "2023-03-06T01:24:04.426697Z"
    }
   },
   "outputs": [],
   "source": [
    "train['NumberOfCharacters'] = train['text'].apply(len)"
   ]
  },
  {
   "cell_type": "code",
   "execution_count": 320,
   "id": "1f9f1da4",
   "metadata": {
    "ExecuteTime": {
     "end_time": "2023-03-06T01:25:05.469085Z",
     "start_time": "2023-03-06T01:25:05.250621Z"
    }
   },
   "outputs": [
    {
     "data": {
      "image/png": "[encoded data removed]",
      "text/plain": [
       "<Figure size 1080x432 with 2 Axes>"
      ]
     },
     "metadata": {
      "needs_background": "light"
     },
     "output_type": "display_data"
    }
   ],
   "source": [
    "figs, axs = plt.subplots(ncols=2,\n",
    "                        figsize=(15,6))\n",
    "\n",
    "g1 = sns.kdeplot(data=train,\n",
    "        x='NumberOfCharacters',\n",
    "        hue=train['target'].replace({0:'Non-Disaster', 1:'Disaster'}),\n",
    "        ax=axs[0])\n",
    "\n",
    "g2 = sns.boxplot(data=train,\n",
    "            x=train['target'].replace({0:'Non-Disaster', 1:'Disaster'}),\n",
    "            y='NumberOfCharacters',\n",
    "           ax=axs[1])"
   ]
  },
  {
   "cell_type": "markdown",
   "id": "f57656cf",
   "metadata": {},
   "source": [
    "The non disaster tweets in general can have lower character counts."
   ]
  },
  {
   "cell_type": "markdown",
   "id": "246dceab",
   "metadata": {},
   "source": [
    "We do see some stop words that need to be removed, which should be a part of our pre-processing step."
   ]
  },
  {
   "cell_type": "markdown",
   "id": "24e98426",
   "metadata": {},
   "source": [
    "Before we build our model, we need to do some additional data cleaning and text feature engineering. We'll use the SpaCy library for this."
   ]
  },
  {
   "cell_type": "markdown",
   "id": "d6059d3e",
   "metadata": {},
   "source": [
    "## Model"
   ]
  },
  {
   "cell_type": "markdown",
   "id": "fc0d202d",
   "metadata": {},
   "source": [
    "### Lemmatize, clean and create Bag of Words "
   ]
  },
  {
   "cell_type": "markdown",
   "id": "21d808b9",
   "metadata": {},
   "source": [
    "Some stop words such as 'the', 'if' etc do not provide any classification value, these can be removed along with numbers, URLS and punctuation texts."
   ]
  },
  {
   "cell_type": "code",
   "execution_count": 321,
   "id": "1f1f0da3",
   "metadata": {
    "ExecuteTime": {
     "end_time": "2023-03-06T01:25:09.532249Z",
     "start_time": "2023-03-06T01:25:08.276627Z"
    }
   },
   "outputs": [],
   "source": [
    "#Load a medium trained model\n",
    "nlp = spacy.load(\"en_core_web_md\")"
   ]
  },
  {
   "cell_type": "code",
   "execution_count": 330,
   "id": "0c0a00f4",
   "metadata": {
    "ExecuteTime": {
     "end_time": "2023-03-06T01:27:38.531958Z",
     "start_time": "2023-03-06T01:27:38.527278Z"
    }
   },
   "outputs": [],
   "source": [
    "def cleaner(note):\n",
    "    \"\"\"Remove stop words, punctuations, convert words into lemma_\"\"\"\n",
    "    doc = nlp(note)\n",
    "    note = (\" \".join([token.lemma_ for token in doc \\\n",
    "                      if not token.is_stop \\\n",
    "                          and not token.is_punct \\\n",
    "                          and not token.like_num\\\n",
    "                          and not token.like_url\\\n",
    "                          and not token.like_email]))\n",
    "    note = note.replace('@', '')\n",
    "    note = note.lower()\n",
    "    return note"
   ]
  },
  {
   "cell_type": "code",
   "execution_count": 332,
   "id": "aff9aa3a",
   "metadata": {
    "ExecuteTime": {
     "end_time": "2023-03-06T01:28:27.167928Z",
     "start_time": "2023-03-06T01:27:41.892088Z"
    }
   },
   "outputs": [],
   "source": [
    "# Clean both the training and the testing dataset, should take about a min\n",
    "train['text'] = train['text'].astype(str).apply(cleaner)\n",
    "test['text'] = test['text'].astype(str).apply(cleaner)"
   ]
  },
  {
   "cell_type": "code",
   "execution_count": 413,
   "id": "d16280c4",
   "metadata": {
    "ExecuteTime": {
     "end_time": "2023-03-06T02:21:08.071984Z",
     "start_time": "2023-03-06T02:21:07.978425Z"
    }
   },
   "outputs": [],
   "source": [
    "# Tokenize texts using keras's tokenizer\n",
    "tokenizer = keras.preprocessing.text.Tokenizer()\n",
    "tokenizer.fit_on_texts(train['text'])"
   ]
  },
  {
   "cell_type": "code",
   "execution_count": 344,
   "id": "a281a959",
   "metadata": {
    "ExecuteTime": {
     "end_time": "2023-03-06T01:29:50.567341Z",
     "start_time": "2023-03-06T01:29:50.488755Z"
    }
   },
   "outputs": [],
   "source": [
    "# Encode the text\n",
    "encoded_train = tokenizer.texts_to_sequences(train['text'])\n",
    "padded_train = keras.preprocessing.sequence.pad_sequences(encoded_train, maxlen=54, \n",
    "                                                          padding='post')\n",
    "\n",
    "encoded_test = tokenizer.texts_to_sequences(test['text'])\n",
    "padded_test = keras.preprocessing.sequence.pad_sequences(encoded_test, maxlen=54, \n",
    "                                                          padding='post')"
   ]
  },
  {
   "cell_type": "code",
   "execution_count": 345,
   "id": "78cb9730",
   "metadata": {
    "ExecuteTime": {
     "end_time": "2023-03-06T01:29:53.283405Z",
     "start_time": "2023-03-06T01:29:53.267822Z"
    }
   },
   "outputs": [],
   "source": [
    "X_train, X_test, y_train, y_test = train_test_split(padded_train, train['target'], \n",
    "                                                    test_size=0.25, \n",
    "                                                    random_state=42,\n",
    "                                                    stratify=train['target'])"
   ]
  },
  {
   "cell_type": "code",
   "execution_count": 346,
   "id": "a13375d1",
   "metadata": {
    "ExecuteTime": {
     "end_time": "2023-03-06T01:29:53.765681Z",
     "start_time": "2023-03-06T01:29:53.754591Z"
    }
   },
   "outputs": [],
   "source": [
    "# Create a validation set\n",
    "X_train, X_valid, y_train, y_valid = train_test_split(X_train, y_train, \n",
    "                                                    test_size=0.25, \n",
    "                                                    random_state=42,\n",
    "                                                    stratify=y_train)"
   ]
  },
  {
   "cell_type": "markdown",
   "id": "9d342ad6",
   "metadata": {
    "ExecuteTime": {
     "end_time": "2023-03-05T22:15:28.397919Z",
     "start_time": "2023-03-05T22:15:28.387844Z"
    }
   },
   "source": [
    "### Fit a RNN Model"
   ]
  },
  {
   "cell_type": "code",
   "execution_count": 414,
   "id": "00f5bdf7",
   "metadata": {
    "ExecuteTime": {
     "end_time": "2023-03-06T02:21:27.020437Z",
     "start_time": "2023-03-06T02:21:26.923367Z"
    }
   },
   "outputs": [],
   "source": [
    "gnn_model = keras.models.Sequential([\n",
    "                        keras.layers.Embedding(input_dim=len(tokenizer.word_index)+1,\n",
    "                                               output_dim=54,\n",
    "                                               input_length=X_train.shape[1]),\n",
    "                        keras.layers.Bidirectional(keras.layers.SimpleRNN(64)),\n",
    "                        keras.layers.Dense(64, activation='relu'),\n",
    "                        keras.layers.Dense(units=1, activation='sigmoid'),\n",
    "                    ])"
   ]
  },
  {
   "cell_type": "code",
   "execution_count": 415,
   "id": "7dd9aa19",
   "metadata": {
    "ExecuteTime": {
     "end_time": "2023-03-06T02:21:27.458089Z",
     "start_time": "2023-03-06T02:21:27.431018Z"
    }
   },
   "outputs": [
    {
     "name": "stdout",
     "output_type": "stream",
     "text": [
      "Model: \"sequential_28\"\n",
      "_________________________________________________________________\n",
      " Layer (type)                Output Shape              Param #   \n",
      "=================================================================\n",
      " embedding_9 (Embedding)     (None, 54, 10)            149920    \n",
      "                                                                 \n",
      " bidirectional_20 (Bidirecti  (None, 128)              9600      \n",
      " onal)                                                           \n",
      "                                                                 \n",
      " dense_42 (Dense)            (None, 64)                8256      \n",
      "                                                                 \n",
      " dense_43 (Dense)            (None, 1)                 65        \n",
      "                                                                 \n",
      "=================================================================\n",
      "Total params: 167,841\n",
      "Trainable params: 167,841\n",
      "Non-trainable params: 0\n",
      "_________________________________________________________________\n"
     ]
    }
   ],
   "source": [
    "gnn_model.summary()"
   ]
  },
  {
   "cell_type": "code",
   "execution_count": 416,
   "id": "64219f66",
   "metadata": {
    "ExecuteTime": {
     "end_time": "2023-03-06T02:21:27.691584Z",
     "start_time": "2023-03-06T02:21:27.680583Z"
    }
   },
   "outputs": [],
   "source": [
    "gnn_model.compile(loss=\"binary_crossentropy\", # Loss function\n",
    "                optimizer=\"adam\", # Gradient Descent\n",
    "                metrics=[\"accuracy\", \"AUC\"])"
   ]
  },
  {
   "cell_type": "code",
   "execution_count": 417,
   "id": "cff4c448",
   "metadata": {
    "ExecuteTime": {
     "end_time": "2023-03-06T02:21:49.029592Z",
     "start_time": "2023-03-06T02:21:28.071214Z"
    }
   },
   "outputs": [
    {
     "name": "stdout",
     "output_type": "stream",
     "text": [
      "Epoch 1/10\n",
      "134/134 [==============================] - 3s 16ms/step - loss: 0.6709 - accuracy: 0.5833 - auc: 0.5864 - val_loss: 0.6451 - val_accuracy: 0.6071 - val_auc: 0.6857\n",
      "Epoch 2/10\n",
      "134/134 [==============================] - 2s 14ms/step - loss: 0.5225 - accuracy: 0.7655 - auc: 0.8093 - val_loss: 0.5610 - val_accuracy: 0.7283 - val_auc: 0.7877\n",
      "Epoch 3/10\n",
      "134/134 [==============================] - 2s 14ms/step - loss: 0.3592 - accuracy: 0.8624 - auc: 0.9138 - val_loss: 0.6111 - val_accuracy: 0.7346 - val_auc: 0.7814\n",
      "Epoch 4/10\n",
      "134/134 [==============================] - 2s 14ms/step - loss: 0.2250 - accuracy: 0.9267 - auc: 0.9584 - val_loss: 0.7771 - val_accuracy: 0.7094 - val_auc: 0.7141\n",
      "Epoch 5/10\n",
      "134/134 [==============================] - 2s 14ms/step - loss: 0.1593 - accuracy: 0.9530 - auc: 0.9756 - val_loss: 0.7215 - val_accuracy: 0.7353 - val_auc: 0.7817\n",
      "Epoch 6/10\n",
      "134/134 [==============================] - 2s 15ms/step - loss: 0.1143 - accuracy: 0.9657 - auc: 0.9882 - val_loss: 0.9142 - val_accuracy: 0.7080 - val_auc: 0.7615\n",
      "Epoch 7/10\n",
      "134/134 [==============================] - 2s 15ms/step - loss: 0.0952 - accuracy: 0.9682 - auc: 0.9918 - val_loss: 0.9098 - val_accuracy: 0.7416 - val_auc: 0.7651\n",
      "Epoch 8/10\n",
      "134/134 [==============================] - 2s 15ms/step - loss: 0.0843 - accuracy: 0.9715 - auc: 0.9940 - val_loss: 0.9962 - val_accuracy: 0.7367 - val_auc: 0.7584\n",
      "Epoch 9/10\n",
      "134/134 [==============================] - 2s 15ms/step - loss: 0.0538 - accuracy: 0.9813 - auc: 0.9977 - val_loss: 1.1130 - val_accuracy: 0.7269 - val_auc: 0.7601\n",
      "Epoch 10/10\n",
      "134/134 [==============================] - 2s 15ms/step - loss: 0.0430 - accuracy: 0.9853 - auc: 0.9981 - val_loss: 1.2516 - val_accuracy: 0.7080 - val_auc: 0.7548\n"
     ]
    }
   ],
   "source": [
    "gnn_model_history = gnn_model.fit(X_train, y_train,\n",
    "                                    epochs=10,\n",
    "                                    validation_data =(X_valid, y_valid))"
   ]
  },
  {
   "cell_type": "code",
   "execution_count": 353,
   "id": "f2019c2f",
   "metadata": {
    "ExecuteTime": {
     "end_time": "2023-03-06T01:31:44.739326Z",
     "start_time": "2023-03-06T01:31:44.614727Z"
    }
   },
   "outputs": [
    {
     "data": {
      "image/png": "[encoded data removed]",
      "text/plain": [
       "<Figure size 576x360 with 1 Axes>"
      ]
     },
     "metadata": {
      "needs_background": "light"
     },
     "output_type": "display_data"
    }
   ],
   "source": [
    "pd.DataFrame(gnn_model_history.history).plot(figsize=(8, 5))\n",
    "plt.grid(True)\n",
    "#plt.gca().set_ylim(0, 1) # set the vertical range to [0-1]\n",
    "plt.xlabel('Epochs')\n",
    "plt.ylabel('Accuracy')\n",
    "plt.show()"
   ]
  },
  {
   "cell_type": "code",
   "execution_count": 355,
   "id": "93e98c0b",
   "metadata": {
    "ExecuteTime": {
     "end_time": "2023-03-06T01:33:28.373011Z",
     "start_time": "2023-03-06T01:33:27.749112Z"
    }
   },
   "outputs": [
    {
     "name": "stdout",
     "output_type": "stream",
     "text": [
      "60/60 [==============================] - 1s 9ms/step - loss: 1.0925 - accuracy: 0.7122 - auc: 0.7633\n"
     ]
    },
    {
     "data": {
      "text/plain": [
       "[1.0924943685531616, 0.7121848464012146, 0.7632977366447449]"
      ]
     },
     "execution_count": 355,
     "metadata": {},
     "output_type": "execute_result"
    }
   ],
   "source": [
    "gnn_model.evaluate(X_test, y_test)"
   ]
  },
  {
   "cell_type": "markdown",
   "id": "b85c8196",
   "metadata": {},
   "source": [
    "As our training score improves, our validation score remains constant and the loss overshoots. This is an indicator that our model is overfitting the training data. This is also evident by the low accuracy and AUC score for the testing set we created."
   ]
  },
  {
   "cell_type": "markdown",
   "id": "8ee13a4a",
   "metadata": {},
   "source": [
    "### LTSM model"
   ]
  },
  {
   "cell_type": "code",
   "execution_count": 378,
   "id": "dbafe690",
   "metadata": {
    "ExecuteTime": {
     "end_time": "2023-03-06T01:52:52.452953Z",
     "start_time": "2023-03-06T01:52:50.529299Z"
    }
   },
   "outputs": [],
   "source": [
    "ltsm_model = keras.models.Sequential([\n",
    "                        keras.layers.Embedding(len(tokenizer.word_index)+1,\n",
    "                                               50,\n",
    "                                               mask_zero=True),\n",
    "                        keras.layers.Bidirectional(tf.keras.layers.LSTM(64,  return_sequences=True)),\n",
    "                        keras.layers.Bidirectional(tf.keras.layers.LSTM(32)),\n",
    "                        keras.layers.Dense(64, activation='sigmoid'),\n",
    "                        tf.keras.layers.Dropout(0.5),\n",
    "                        keras.layers.Dense(units=1, activation='sigmoid'),\n",
    "                    ])"
   ]
  },
  {
   "cell_type": "code",
   "execution_count": 379,
   "id": "8fc01bb7",
   "metadata": {
    "ExecuteTime": {
     "end_time": "2023-03-06T01:52:52.468505Z",
     "start_time": "2023-03-06T01:52:52.454907Z"
    }
   },
   "outputs": [],
   "source": [
    "ltsm_model.compile(loss=\"binary_crossentropy\", # Loss function\n",
    "                optimizer=keras.optimizers.Adam(1e-2), # Gradient Descent\n",
    "                metrics=[\"accuracy\", \"AUC\"])"
   ]
  },
  {
   "cell_type": "code",
   "execution_count": 380,
   "id": "a03430cd",
   "metadata": {
    "ExecuteTime": {
     "end_time": "2023-03-06T01:52:52.499532Z",
     "start_time": "2023-03-06T01:52:52.470236Z"
    }
   },
   "outputs": [
    {
     "name": "stdout",
     "output_type": "stream",
     "text": [
      "Model: \"sequential_27\"\n",
      "_________________________________________________________________\n",
      " Layer (type)                Output Shape              Param #   \n",
      "=================================================================\n",
      " embedding_8 (Embedding)     (None, None, 50)          749600    \n",
      "                                                                 \n",
      " bidirectional_18 (Bidirecti  (None, None, 128)        58880     \n",
      " onal)                                                           \n",
      "                                                                 \n",
      " bidirectional_19 (Bidirecti  (None, 64)               41216     \n",
      " onal)                                                           \n",
      "                                                                 \n",
      " dense_40 (Dense)            (None, 64)                4160      \n",
      "                                                                 \n",
      " dropout_5 (Dropout)         (None, 64)                0         \n",
      "                                                                 \n",
      " dense_41 (Dense)            (None, 1)                 65        \n",
      "                                                                 \n",
      "=================================================================\n",
      "Total params: 853,921\n",
      "Trainable params: 853,921\n",
      "Non-trainable params: 0\n",
      "_________________________________________________________________\n"
     ]
    }
   ],
   "source": [
    "ltsm_model.summary()"
   ]
  },
  {
   "cell_type": "code",
   "execution_count": 381,
   "id": "cb31dac5",
   "metadata": {
    "ExecuteTime": {
     "end_time": "2023-03-06T01:54:46.389297Z",
     "start_time": "2023-03-06T01:52:52.500541Z"
    }
   },
   "outputs": [
    {
     "name": "stdout",
     "output_type": "stream",
     "text": [
      "Epoch 1/10\n",
      "134/134 [==============================] - 22s 102ms/step - loss: 0.5773 - accuracy: 0.7195 - auc: 0.7555 - val_loss: 0.4854 - val_accuracy: 0.7836 - val_auc: 0.8300\n",
      "Epoch 2/10\n",
      "134/134 [==============================] - 12s 93ms/step - loss: 0.2615 - accuracy: 0.9096 - auc: 0.9523 - val_loss: 0.5560 - val_accuracy: 0.7591 - val_auc: 0.8076\n",
      "Epoch 3/10\n",
      "134/134 [==============================] - 14s 103ms/step - loss: 0.1318 - accuracy: 0.9580 - auc: 0.9855 - val_loss: 0.8470 - val_accuracy: 0.7444 - val_auc: 0.7888\n",
      "Epoch 4/10\n",
      "134/134 [==============================] - 11s 79ms/step - loss: 0.0787 - accuracy: 0.9752 - auc: 0.9937 - val_loss: 0.8791 - val_accuracy: 0.7108 - val_auc: 0.7930\n",
      "Epoch 5/10\n",
      "134/134 [==============================] - 9s 70ms/step - loss: 0.0535 - accuracy: 0.9829 - auc: 0.9974 - val_loss: 1.0980 - val_accuracy: 0.7150 - val_auc: 0.7823\n",
      "Epoch 6/10\n",
      "134/134 [==============================] - 9s 66ms/step - loss: 0.0498 - accuracy: 0.9806 - auc: 0.9981 - val_loss: 1.1544 - val_accuracy: 0.7262 - val_auc: 0.7872\n",
      "Epoch 7/10\n",
      "134/134 [==============================] - 9s 67ms/step - loss: 0.0358 - accuracy: 0.9834 - auc: 0.9992 - val_loss: 1.2276 - val_accuracy: 0.7311 - val_auc: 0.7866\n",
      "Epoch 8/10\n",
      "134/134 [==============================] - 9s 68ms/step - loss: 0.0284 - accuracy: 0.9869 - auc: 0.9995 - val_loss: 1.2706 - val_accuracy: 0.7318 - val_auc: 0.7809\n",
      "Epoch 9/10\n",
      "134/134 [==============================] - 9s 68ms/step - loss: 0.0250 - accuracy: 0.9860 - auc: 0.9994 - val_loss: 1.3072 - val_accuracy: 0.7465 - val_auc: 0.7840\n",
      "Epoch 10/10\n",
      "134/134 [==============================] - 10s 72ms/step - loss: 0.0208 - accuracy: 0.9883 - auc: 0.9997 - val_loss: 1.4524 - val_accuracy: 0.7192 - val_auc: 0.7767\n"
     ]
    }
   ],
   "source": [
    "ltsm_model_history = ltsm_model.fit(X_train, y_train,\n",
    "                                    epochs=10,\n",
    "                                    validation_data =(X_valid, y_valid))"
   ]
  },
  {
   "cell_type": "code",
   "execution_count": 388,
   "id": "09a7287d",
   "metadata": {
    "ExecuteTime": {
     "end_time": "2023-03-06T01:59:09.108859Z",
     "start_time": "2023-03-06T01:59:08.990571Z"
    }
   },
   "outputs": [
    {
     "data": {
      "image/png": "[encoded data removed]",
      "text/plain": [
       "<Figure size 576x360 with 1 Axes>"
      ]
     },
     "metadata": {
      "needs_background": "light"
     },
     "output_type": "display_data"
    }
   ],
   "source": [
    "pd.DataFrame(ltsm_model_history.history).plot(figsize=(8, 5))\n",
    "plt.grid(True)\n",
    "plt.xlabel('Epochs')\n",
    "plt.ylabel('Accuracy')\n",
    "plt.show()"
   ]
  },
  {
   "cell_type": "code",
   "execution_count": 383,
   "id": "97001d95",
   "metadata": {
    "ExecuteTime": {
     "end_time": "2023-03-06T01:57:38.445808Z",
     "start_time": "2023-03-06T01:57:38.148956Z"
    }
   },
   "outputs": [
    {
     "name": "stdout",
     "output_type": "stream",
     "text": [
      "60/60 [==============================] - 0s 4ms/step - loss: 1.0925 - accuracy: 0.7122 - auc: 0.7633\n"
     ]
    },
    {
     "data": {
      "text/plain": [
       "[1.0924943685531616, 0.7121848464012146, 0.7632977366447449]"
      ]
     },
     "execution_count": 383,
     "metadata": {},
     "output_type": "execute_result"
    }
   ],
   "source": [
    "gnn_model.evaluate(X_test, y_test)"
   ]
  },
  {
   "cell_type": "code",
   "execution_count": 389,
   "id": "f8e6eed8",
   "metadata": {
    "ExecuteTime": {
     "end_time": "2023-03-06T02:00:05.097614Z",
     "start_time": "2023-03-06T02:00:01.408960Z"
    }
   },
   "outputs": [
    {
     "name": "stdout",
     "output_type": "stream",
     "text": [
      "60/60 [==============================] - 4s 14ms/step\n"
     ]
    }
   ],
   "source": [
    "predictions = ltsm_model.predict(X_test)"
   ]
  },
  {
   "cell_type": "code",
   "execution_count": 411,
   "id": "97dbdff9",
   "metadata": {
    "ExecuteTime": {
     "end_time": "2023-03-06T02:09:46.385476Z",
     "start_time": "2023-03-06T02:09:46.373052Z"
    }
   },
   "outputs": [
    {
     "name": "stdout",
     "output_type": "stream",
     "text": [
      "              precision    recall  f1-score   support\n",
      "\n",
      "           0       0.79      0.73      0.76      1086\n",
      "           1       0.67      0.74      0.71       818\n",
      "\n",
      "    accuracy                           0.73      1904\n",
      "   macro avg       0.73      0.74      0.73      1904\n",
      "weighted avg       0.74      0.73      0.74      1904\n",
      "\n"
     ]
    }
   ],
   "source": [
    "print(classification_report(y_test, pd.Series(predictions[:,0]).apply(lambda x: 1 if x>.5 else 0)))"
   ]
  },
  {
   "cell_type": "code",
   "execution_count": 401,
   "id": "9893198c",
   "metadata": {
    "ExecuteTime": {
     "end_time": "2023-03-06T02:01:27.164743Z",
     "start_time": "2023-03-06T02:01:27.051050Z"
    }
   },
   "outputs": [
    {
     "data": {
      "text/plain": [
       "<sklearn.metrics._plot.confusion_matrix.ConfusionMatrixDisplay at 0x177afe45e80>"
      ]
     },
     "execution_count": 401,
     "metadata": {},
     "output_type": "execute_result"
    },
    {
     "data": {
      "image/png": "[encoded data removed]",
      "text/plain": [
       "<Figure size 432x288 with 2 Axes>"
      ]
     },
     "metadata": {
      "needs_background": "light"
     },
     "output_type": "display_data"
    }
   ],
   "source": [
    "cf_m = ConfusionMatrixDisplay(confusion_matrix(y_test, \n",
    "                                               pd.Series(predictions[:,0]).apply(lambda x: 1 if x>.5 else 0),\n",
    "                                               labels=[0, 1]),\n",
    "                                               display_labels=['Non-Disaster', 'Disaster'])\n",
    "cf_m.plot()"
   ]
  },
  {
   "cell_type": "markdown",
   "id": "6050f922",
   "metadata": {},
   "source": [
    "### Test Submission Predictions"
   ]
  },
  {
   "cell_type": "code",
   "execution_count": 402,
   "id": "bab8d804",
   "metadata": {
    "ExecuteTime": {
     "end_time": "2023-03-06T02:02:03.783570Z",
     "start_time": "2023-03-06T02:02:02.261685Z"
    }
   },
   "outputs": [
    {
     "name": "stdout",
     "output_type": "stream",
     "text": [
      "102/102 [==============================] - 1s 14ms/step\n"
     ]
    }
   ],
   "source": [
    "main_test_prediction = ltsm_model.predict(padded_test)"
   ]
  },
  {
   "cell_type": "code",
   "execution_count": 408,
   "id": "0800b720",
   "metadata": {
    "ExecuteTime": {
     "end_time": "2023-03-06T02:04:19.490006Z",
     "start_time": "2023-03-06T02:04:19.474802Z"
    }
   },
   "outputs": [],
   "source": [
    "ltsm_predictions = test.copy() \n",
    "ltsm_predictions['target'] = pd.Series(main_test_prediction[:,0]).apply(lambda x: 1 if x>.5 else 0)"
   ]
  },
  {
   "cell_type": "code",
   "execution_count": 410,
   "id": "0653e4cc",
   "metadata": {
    "ExecuteTime": {
     "end_time": "2023-03-06T02:05:08.163199Z",
     "start_time": "2023-03-06T02:05:08.141055Z"
    }
   },
   "outputs": [],
   "source": [
    "ltsm_predictions[['id', 'target']].to_csv(r'predictions\\unsupervised_predictions.csv', index=False)"
   ]
  },
  {
   "attachments": {
    "image.png": {
     "image/png": "[encoded data removed]"
    }
   },
   "cell_type": "markdown",
   "id": "3d5f558c",
   "metadata": {},
   "source": [
    "![image.png](attachment:image.png)"
   ]
  },
  {
   "cell_type": "markdown",
   "id": "48bca08a",
   "metadata": {},
   "source": [
    "The unsupervised test public score was **0.738**"
   ]
  },
  {
   "cell_type": "markdown",
   "id": "4d7efc06",
   "metadata": {},
   "source": [
    "###  Fit a KNN model"
   ]
  },
  {
   "cell_type": "markdown",
   "id": "1881c1fe",
   "metadata": {},
   "source": [
    "We will now predict the categories using a trained KNN model"
   ]
  },
  {
   "cell_type": "markdown",
   "id": "6ffadf48",
   "metadata": {},
   "source": [
    "To generate our text document, we first get word counts and then calculate their tf-dif (term frequency-inverse document frequency) that will be passed onto our model. This is an important step because tf-dif helps capture relevant words that do not appear frequently throughout the document. "
   ]
  },
  {
   "cell_type": "code",
   "execution_count": 209,
   "id": "8c02f0cd",
   "metadata": {
    "ExecuteTime": {
     "end_time": "2023-03-06T00:56:24.763086Z",
     "start_time": "2023-03-06T00:56:24.738244Z"
    }
   },
   "outputs": [],
   "source": [
    "# Bag contains a sparse matix of all document, word combinations as a 1-gram model (broken off by single words)\n",
    "counter = CountVectorizer()\n",
    "bag = counter.fit_transform(train['text'].values)\n",
    "\n",
    "# Apply tf-idf technique to weight down frequent words appearing in all docs\n",
    "tfidf_vec = TfidfTransformer(use_idf=True,\n",
    "                             norm='l2', # Apply l2 normalization \n",
    "                             smooth_idf=True) # Assigns zero weights to terms occuring in all docs\n",
    "\n",
    "tfidf_run = tfidf_vec.fit_transform(bag)"
   ]
  },
  {
   "cell_type": "code",
   "execution_count": 111,
   "id": "6d455aa8",
   "metadata": {
    "ExecuteTime": {
     "end_time": "2023-03-05T22:10:35.975144Z",
     "start_time": "2023-03-05T22:10:35.878261Z"
    }
   },
   "outputs": [
    {
     "data": {
      "text/html": [
       "<style>#sk-container-id-2 {color: black;background-color: white;}#sk-container-id-2 pre{padding: 0;}#sk-container-id-2 div.sk-toggleable {background-color: white;}#sk-container-id-2 label.sk-toggleable__label {cursor: pointer;display: block;width: 100%;margin-bottom: 0;padding: 0.3em;box-sizing: border-box;text-align: center;}#sk-container-id-2 label.sk-toggleable__label-arrow:before {content: \"▸\";float: left;margin-right: 0.25em;color: #696969;}#sk-container-id-2 label.sk-toggleable__label-arrow:hover:before {color: black;}#sk-container-id-2 div.sk-estimator:hover label.sk-toggleable__label-arrow:before {color: black;}#sk-container-id-2 div.sk-toggleable__content {max-height: 0;max-width: 0;overflow: hidden;text-align: left;background-color: #f0f8ff;}#sk-container-id-2 div.sk-toggleable__content pre {margin: 0.2em;color: black;border-radius: 0.25em;background-color: #f0f8ff;}#sk-container-id-2 input.sk-toggleable__control:checked~div.sk-toggleable__content {max-height: 200px;max-width: 100%;overflow: auto;}#sk-container-id-2 input.sk-toggleable__control:checked~label.sk-toggleable__label-arrow:before {content: \"▾\";}#sk-container-id-2 div.sk-estimator input.sk-toggleable__control:checked~label.sk-toggleable__label {background-color: #d4ebff;}#sk-container-id-2 div.sk-label input.sk-toggleable__control:checked~label.sk-toggleable__label {background-color: #d4ebff;}#sk-container-id-2 input.sk-hidden--visually {border: 0;clip: rect(1px 1px 1px 1px);clip: rect(1px, 1px, 1px, 1px);height: 1px;margin: -1px;overflow: hidden;padding: 0;position: absolute;width: 1px;}#sk-container-id-2 div.sk-estimator {font-family: monospace;background-color: #f0f8ff;border: 1px dotted black;border-radius: 0.25em;box-sizing: border-box;margin-bottom: 0.5em;}#sk-container-id-2 div.sk-estimator:hover {background-color: #d4ebff;}#sk-container-id-2 div.sk-parallel-item::after {content: \"\";width: 100%;border-bottom: 1px solid gray;flex-grow: 1;}#sk-container-id-2 div.sk-label:hover label.sk-toggleable__label {background-color: #d4ebff;}#sk-container-id-2 div.sk-serial::before {content: \"\";position: absolute;border-left: 1px solid gray;box-sizing: border-box;top: 0;bottom: 0;left: 50%;z-index: 0;}#sk-container-id-2 div.sk-serial {display: flex;flex-direction: column;align-items: center;background-color: white;padding-right: 0.2em;padding-left: 0.2em;position: relative;}#sk-container-id-2 div.sk-item {position: relative;z-index: 1;}#sk-container-id-2 div.sk-parallel {display: flex;align-items: stretch;justify-content: center;background-color: white;position: relative;}#sk-container-id-2 div.sk-item::before, #sk-container-id-2 div.sk-parallel-item::before {content: \"\";position: absolute;border-left: 1px solid gray;box-sizing: border-box;top: 0;bottom: 0;left: 50%;z-index: -1;}#sk-container-id-2 div.sk-parallel-item {display: flex;flex-direction: column;z-index: 1;position: relative;background-color: white;}#sk-container-id-2 div.sk-parallel-item:first-child::after {align-self: flex-end;width: 50%;}#sk-container-id-2 div.sk-parallel-item:last-child::after {align-self: flex-start;width: 50%;}#sk-container-id-2 div.sk-parallel-item:only-child::after {width: 0;}#sk-container-id-2 div.sk-dashed-wrapped {border: 1px dashed gray;margin: 0 0.4em 0.5em 0.4em;box-sizing: border-box;padding-bottom: 0.4em;background-color: white;}#sk-container-id-2 div.sk-label label {font-family: monospace;font-weight: bold;display: inline-block;line-height: 1.2em;}#sk-container-id-2 div.sk-label-container {text-align: center;}#sk-container-id-2 div.sk-container {/* jupyter's `normalize.less` sets `[hidden] { display: none; }` but bootstrap.min.css set `[hidden] { display: none !important; }` so we also need the `!important` here to be able to override the default hidden behavior on the sphinx rendered scikit-learn.org. See: https://github.com/scikit-learn/scikit-learn/issues/21755 */display: inline-block !important;position: relative;}#sk-container-id-2 div.sk-text-repr-fallback {display: none;}</style><div id=\"sk-container-id-2\" class=\"sk-top-container\"><div class=\"sk-text-repr-fallback\"><pre>KNeighborsClassifier()</pre><b>In a Jupyter environment, please rerun this cell to show the HTML representation or trust the notebook. <br />On GitHub, the HTML representation is unable to render, please try loading this page with nbviewer.org.</b></div><div class=\"sk-container\" hidden><div class=\"sk-item\"><div class=\"sk-estimator sk-toggleable\"><input class=\"sk-toggleable__control sk-hidden--visually\" id=\"sk-estimator-id-2\" type=\"checkbox\" checked><label for=\"sk-estimator-id-2\" class=\"sk-toggleable__label sk-toggleable__label-arrow\">KNeighborsClassifier</label><div class=\"sk-toggleable__content\"><pre>KNeighborsClassifier()</pre></div></div></div></div></div>"
      ],
      "text/plain": [
       "KNeighborsClassifier()"
      ]
     },
     "execution_count": 111,
     "metadata": {},
     "output_type": "execute_result"
    }
   ],
   "source": [
    "knn = KNeighborsClassifier(n_neighbors=5)\n",
    "knn.fit(X_train, y_train)"
   ]
  },
  {
   "cell_type": "code",
   "execution_count": 112,
   "id": "62f60f2e",
   "metadata": {
    "ExecuteTime": {
     "end_time": "2023-03-05T22:10:44.893792Z",
     "start_time": "2023-03-05T22:10:43.018424Z"
    }
   },
   "outputs": [],
   "source": [
    "category_predictions = knn.predict(X_test)"
   ]
  },
  {
   "cell_type": "code",
   "execution_count": 113,
   "id": "4e8b88a2",
   "metadata": {
    "ExecuteTime": {
     "end_time": "2023-03-05T22:10:50.795966Z",
     "start_time": "2023-03-05T22:10:50.786857Z"
    }
   },
   "outputs": [
    {
     "data": {
      "text/plain": [
       "0.7710084033613446"
      ]
     },
     "execution_count": 113,
     "metadata": {},
     "output_type": "execute_result"
    }
   ],
   "source": [
    "accuracy_score(y_test, category_predictions)  "
   ]
  },
  {
   "cell_type": "code",
   "execution_count": 385,
   "id": "5669681f",
   "metadata": {
    "ExecuteTime": {
     "end_time": "2023-03-06T01:58:15.389056Z",
     "start_time": "2023-03-06T01:58:15.375817Z"
    }
   },
   "outputs": [
    {
     "name": "stdout",
     "output_type": "stream",
     "text": [
      "              precision    recall  f1-score   support\n",
      "\n",
      "           0       0.75      0.91      0.82      1086\n",
      "           1       0.83      0.59      0.69       818\n",
      "\n",
      "    accuracy                           0.77      1904\n",
      "   macro avg       0.79      0.75      0.75      1904\n",
      "weighted avg       0.78      0.77      0.76      1904\n",
      "\n"
     ]
    }
   ],
   "source": [
    "print(classification_report(y_test, category_predictions))"
   ]
  },
  {
   "cell_type": "code",
   "execution_count": 116,
   "id": "a7baeb54",
   "metadata": {
    "ExecuteTime": {
     "end_time": "2023-03-05T22:11:01.861163Z",
     "start_time": "2023-03-05T22:11:01.742417Z"
    }
   },
   "outputs": [
    {
     "data": {
      "text/plain": [
       "<sklearn.metrics._plot.confusion_matrix.ConfusionMatrixDisplay at 0x176a6993490>"
      ]
     },
     "execution_count": 116,
     "metadata": {},
     "output_type": "execute_result"
    },
    {
     "data": {
      "image/png": "[encoded data removed]",
      "text/plain": [
       "<Figure size 432x288 with 2 Axes>"
      ]
     },
     "metadata": {
      "needs_background": "light"
     },
     "output_type": "display_data"
    }
   ],
   "source": [
    "cf_m_sup = ConfusionMatrixDisplay(confusion_matrix(y_test, \n",
    "                                                   category_predictions,\n",
    "                                                   labels=[0, 1]),\n",
    "                                                   display_labels=['Non-Disaster', 'Disaster'])\n",
    "cf_m_sup.plot()"
   ]
  },
  {
   "cell_type": "markdown",
   "id": "1040e574",
   "metadata": {},
   "source": [
    "### KNN - Test Submission Predictions"
   ]
  },
  {
   "cell_type": "code",
   "execution_count": 100,
   "id": "0b7871fd",
   "metadata": {
    "ExecuteTime": {
     "end_time": "2023-03-05T22:06:14.072034Z",
     "start_time": "2023-03-05T22:06:09.947386Z"
    }
   },
   "outputs": [],
   "source": [
    "test_category_predictions = knn.predict(tfidf_test_run.toarray())"
   ]
  },
  {
   "cell_type": "code",
   "execution_count": 101,
   "id": "7e67353c",
   "metadata": {
    "ExecuteTime": {
     "end_time": "2023-03-05T22:06:14.088034Z",
     "start_time": "2023-03-05T22:06:14.073021Z"
    }
   },
   "outputs": [
    {
     "data": {
      "text/html": [
       "<div>\n",
       "<style scoped>\n",
       "    .dataframe tbody tr th:only-of-type {\n",
       "        vertical-align: middle;\n",
       "    }\n",
       "\n",
       "    .dataframe tbody tr th {\n",
       "        vertical-align: top;\n",
       "    }\n",
       "\n",
       "    .dataframe thead th {\n",
       "        text-align: right;\n",
       "    }\n",
       "</style>\n",
       "<table border=\"1\" class=\"dataframe\">\n",
       "  <thead>\n",
       "    <tr style=\"text-align: right;\">\n",
       "      <th></th>\n",
       "      <th>id</th>\n",
       "      <th>keyword</th>\n",
       "      <th>location</th>\n",
       "      <th>text</th>\n",
       "      <th>target</th>\n",
       "    </tr>\n",
       "  </thead>\n",
       "  <tbody>\n",
       "    <tr>\n",
       "      <th>257</th>\n",
       "      <td>831</td>\n",
       "      <td>bioterror</td>\n",
       "      <td>NaN</td>\n",
       "      <td>fedex long transport bioterror germ wake anthr...</td>\n",
       "      <td>1</td>\n",
       "    </tr>\n",
       "    <tr>\n",
       "      <th>1317</th>\n",
       "      <td>4340</td>\n",
       "      <td>dust%20storm</td>\n",
       "      <td>The Universe</td>\n",
       "      <td>kid disappear Dust storm Atmospheric Aussie Th...</td>\n",
       "      <td>1</td>\n",
       "    </tr>\n",
       "    <tr>\n",
       "      <th>1256</th>\n",
       "      <td>4130</td>\n",
       "      <td>drought</td>\n",
       "      <td>NaN</td>\n",
       "      <td>water conservation urge North Thompson B.C. go...</td>\n",
       "      <td>1</td>\n",
       "    </tr>\n",
       "    <tr>\n",
       "      <th>3159</th>\n",
       "      <td>10480</td>\n",
       "      <td>wild%20fires</td>\n",
       "      <td>NaN</td>\n",
       "      <td>wild fire California drought state sad</td>\n",
       "      <td>1</td>\n",
       "    </tr>\n",
       "    <tr>\n",
       "      <th>1694</th>\n",
       "      <td>5728</td>\n",
       "      <td>forest%20fire</td>\n",
       "      <td>NaN</td>\n",
       "      <td>crew respond small brush fire burn Tahoe Fores...</td>\n",
       "      <td>0</td>\n",
       "    </tr>\n",
       "  </tbody>\n",
       "</table>\n",
       "</div>"
      ],
      "text/plain": [
       "         id        keyword      location  \\\n",
       "257     831      bioterror           NaN   \n",
       "1317   4340   dust%20storm  The Universe   \n",
       "1256   4130        drought           NaN   \n",
       "3159  10480   wild%20fires           NaN   \n",
       "1694   5728  forest%20fire           NaN   \n",
       "\n",
       "                                                   text  target  \n",
       "257   fedex long transport bioterror germ wake anthr...       1  \n",
       "1317  kid disappear Dust storm Atmospheric Aussie Th...       1  \n",
       "1256  water conservation urge North Thompson B.C. go...       1  \n",
       "3159             wild fire California drought state sad       1  \n",
       "1694  crew respond small brush fire burn Tahoe Fores...       0  "
      ]
     },
     "execution_count": 101,
     "metadata": {},
     "output_type": "execute_result"
    }
   ],
   "source": [
    "test_results_supervised = test.copy().assign(target=test_category_predictions)\n",
    "test_results_supervised.sample(5)"
   ]
  },
  {
   "cell_type": "code",
   "execution_count": 102,
   "id": "ad020c69",
   "metadata": {
    "ExecuteTime": {
     "end_time": "2023-03-05T22:06:25.456588Z",
     "start_time": "2023-03-05T22:06:25.437099Z"
    }
   },
   "outputs": [],
   "source": [
    "test_results_supervised[['id', 'target']].to_csv(r'predictions\\supervised_predictions.csv', index=False)"
   ]
  },
  {
   "attachments": {
    "image.png": {
     "image/png": "[encoded data removed]"
    }
   },
   "cell_type": "markdown",
   "id": "1749a29d",
   "metadata": {},
   "source": [
    "![image.png](attachment:image.png)"
   ]
  },
  {
   "cell_type": "markdown",
   "id": "8d64131a",
   "metadata": {},
   "source": [
    "The unsupervised test public score was **0.756**"
   ]
  },
  {
   "cell_type": "markdown",
   "id": "265be174",
   "metadata": {},
   "source": [
    "## Result, Analysis and Conclusion"
   ]
  },
  {
   "cell_type": "markdown",
   "id": "59d212a0",
   "metadata": {},
   "source": [
    "Results:\n",
    "The LTSM model had a score of 0.73. The plot for training vs validation accuracy and loss plots suggest that the model was over fitting the training data.  \n",
    "\n",
    "- The model was modified by adding a Dropout layer, this helped the validation loss ever so slightly.  \n",
    "- The learning rate was modified from 0.0001 to 0.01, the accuracy remained unchanged after 10 epochs but the over fitting behaviour did not however improve. \n",
    "\n",
    "The bidirectional RNN model achieved a score of 0.71, suggesting that the LTSM model did improve on this. "
   ]
  },
  {
   "cell_type": "markdown",
   "id": "3de04c66",
   "metadata": {},
   "source": [
    "The RNN model did not do better than the KNN one. For future exploration we could segment the hastagged keyword differently than other keywords, this might give us additional data to work with. The number of characters could also be an additional feature. In terms of the issue with generalization, additional knowledge of the word vectorization portion of the code can be helpful. This would be a good project to come back to and reanalyze after learning about Transformers."
   ]
  },
  {
   "cell_type": "markdown",
   "id": "50b5f86b",
   "metadata": {},
   "source": [
    "## References"
   ]
  },
  {
   "cell_type": "markdown",
   "id": "2f52f7b9",
   "metadata": {},
   "source": [
    "\n",
    "<br>Competition https://www.coursera.org/learn/introduction-to-deep-learning-boulder/peer/HYQbb/week-4-nlp-disaster-tweets-kaggle-mini-project</br>\n",
    "<br>Spacy https://spacy.io/usage/spacy-101</br>\n",
    "<br>ML Book https://github.com/rasbt/machine-learning-book</br>"
   ]
  }
 ],
 "metadata": {
  "hide_input": false,
  "kernelspec": {
   "display_name": "Python 3",
   "language": "python",
   "name": "python3"
  },
  "language_info": {
   "codemirror_mode": {
    "name": "ipython",
    "version": 3
   },
   "file_extension": ".py",
   "mimetype": "text/x-python",
   "name": "python",
   "nbconvert_exporter": "python",
   "pygments_lexer": "ipython3",
   "version": "3.8.8"
  }
 },
 "nbformat": 4,
 "nbformat_minor": 5
}
